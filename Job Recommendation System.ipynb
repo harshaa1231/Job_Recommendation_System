{
 "cells": [
  {
   "cell_type": "markdown",
   "metadata": {
    "id": "bZ0GoYcTuc3u"
   },
   "source": [
    "Loading the dataset and importing necessary libraries:"
   ]
  },
  {
   "cell_type": "code",
   "execution_count": 1,
   "metadata": {
    "id": "kIc11eTq-a75"
   },
   "outputs": [],
   "source": [
    "#Importing Necessary libraries for data manipulation.\n",
    "import pandas as pd\n",
    "import numpy as np"
   ]
  },
  {
   "cell_type": "code",
   "execution_count": 2,
   "metadata": {
    "id": "kqwMO8H1BJq-"
   },
   "outputs": [],
   "source": [
    "#Reading the csv file to understand the dataset\n",
    "#Inorder to run the project please put the path of your file here.\n",
    "project = pd.read_csv('/Users/harshavardhan/Downloads/archive (5)/linkedin_job_postings.csv')"
   ]
  },
  {
   "cell_type": "code",
   "execution_count": 3,
   "metadata": {
    "colab": {
     "base_uri": "https://localhost:8080/",
     "height": 800
    },
    "id": "hB90PSypBbpC",
    "outputId": "4a562dfb-788d-45b3-8707-fd49bcf0f199"
   },
   "outputs": [
    {
     "data": {
      "text/html": [
       "<div>\n",
       "<style scoped>\n",
       "    .dataframe tbody tr th:only-of-type {\n",
       "        vertical-align: middle;\n",
       "    }\n",
       "\n",
       "    .dataframe tbody tr th {\n",
       "        vertical-align: top;\n",
       "    }\n",
       "\n",
       "    .dataframe thead th {\n",
       "        text-align: right;\n",
       "    }\n",
       "</style>\n",
       "<table border=\"1\" class=\"dataframe\">\n",
       "  <thead>\n",
       "    <tr style=\"text-align: right;\">\n",
       "      <th></th>\n",
       "      <th>job_link</th>\n",
       "      <th>last_processed_time</th>\n",
       "      <th>got_summary</th>\n",
       "      <th>got_ner</th>\n",
       "      <th>is_being_worked</th>\n",
       "      <th>job_title</th>\n",
       "      <th>company</th>\n",
       "      <th>job_location</th>\n",
       "      <th>first_seen</th>\n",
       "      <th>search_city</th>\n",
       "      <th>search_country</th>\n",
       "      <th>search_position</th>\n",
       "      <th>job_level</th>\n",
       "      <th>job_type</th>\n",
       "    </tr>\n",
       "  </thead>\n",
       "  <tbody>\n",
       "    <tr>\n",
       "      <th>0</th>\n",
       "      <td>https://www.linkedin.com/jobs/view/account-exe...</td>\n",
       "      <td>2024-01-21 07:12:29.00256+00</td>\n",
       "      <td>t</td>\n",
       "      <td>t</td>\n",
       "      <td>f</td>\n",
       "      <td>Account Executive - Dispensing (NorCal/Norther...</td>\n",
       "      <td>BD</td>\n",
       "      <td>San Diego, CA</td>\n",
       "      <td>2024-01-15</td>\n",
       "      <td>Coronado</td>\n",
       "      <td>United States</td>\n",
       "      <td>Color Maker</td>\n",
       "      <td>Mid senior</td>\n",
       "      <td>Onsite</td>\n",
       "    </tr>\n",
       "    <tr>\n",
       "      <th>1</th>\n",
       "      <td>https://www.linkedin.com/jobs/view/registered-...</td>\n",
       "      <td>2024-01-21 07:39:58.88137+00</td>\n",
       "      <td>t</td>\n",
       "      <td>t</td>\n",
       "      <td>f</td>\n",
       "      <td>Registered Nurse - RN Care Manager</td>\n",
       "      <td>Trinity Health MI</td>\n",
       "      <td>Norton Shores, MI</td>\n",
       "      <td>2024-01-14</td>\n",
       "      <td>Grand Haven</td>\n",
       "      <td>United States</td>\n",
       "      <td>Director Nursing Service</td>\n",
       "      <td>Mid senior</td>\n",
       "      <td>Onsite</td>\n",
       "    </tr>\n",
       "    <tr>\n",
       "      <th>2</th>\n",
       "      <td>https://www.linkedin.com/jobs/view/restaurant-...</td>\n",
       "      <td>2024-01-21 07:40:00.251126+00</td>\n",
       "      <td>t</td>\n",
       "      <td>t</td>\n",
       "      <td>f</td>\n",
       "      <td>RESTAURANT SUPERVISOR - THE FORKLIFT</td>\n",
       "      <td>Wasatch Adaptive Sports</td>\n",
       "      <td>Sandy, UT</td>\n",
       "      <td>2024-01-14</td>\n",
       "      <td>Tooele</td>\n",
       "      <td>United States</td>\n",
       "      <td>Stand-In</td>\n",
       "      <td>Mid senior</td>\n",
       "      <td>Onsite</td>\n",
       "    </tr>\n",
       "    <tr>\n",
       "      <th>3</th>\n",
       "      <td>https://www.linkedin.com/jobs/view/independent...</td>\n",
       "      <td>2024-01-21 07:40:00.308133+00</td>\n",
       "      <td>t</td>\n",
       "      <td>t</td>\n",
       "      <td>f</td>\n",
       "      <td>Independent Real Estate Agent</td>\n",
       "      <td>Howard Hanna | Rand Realty</td>\n",
       "      <td>Englewood Cliffs, NJ</td>\n",
       "      <td>2024-01-16</td>\n",
       "      <td>Pinehurst</td>\n",
       "      <td>United States</td>\n",
       "      <td>Real-Estate Clerk</td>\n",
       "      <td>Mid senior</td>\n",
       "      <td>Onsite</td>\n",
       "    </tr>\n",
       "    <tr>\n",
       "      <th>4</th>\n",
       "      <td>https://www.linkedin.com/jobs/view/group-unit-...</td>\n",
       "      <td>2024-01-19 09:45:09.215838+00</td>\n",
       "      <td>f</td>\n",
       "      <td>f</td>\n",
       "      <td>f</td>\n",
       "      <td>Group/Unit Supervisor (Systems Support Manager...</td>\n",
       "      <td>IRS, Office of Chief Counsel</td>\n",
       "      <td>Chamblee, GA</td>\n",
       "      <td>2024-01-17</td>\n",
       "      <td>Gadsden</td>\n",
       "      <td>United States</td>\n",
       "      <td>Supervisor Travel-Information Center</td>\n",
       "      <td>Mid senior</td>\n",
       "      <td>Onsite</td>\n",
       "    </tr>\n",
       "    <tr>\n",
       "      <th>5</th>\n",
       "      <td>https://www.linkedin.com/jobs/view/counselor-0...</td>\n",
       "      <td>2024-01-19 09:45:09.215838+00</td>\n",
       "      <td>f</td>\n",
       "      <td>f</td>\n",
       "      <td>f</td>\n",
       "      <td>Counselor-07532802</td>\n",
       "      <td>ICL</td>\n",
       "      <td>Brooklyn, NY</td>\n",
       "      <td>2024-01-16</td>\n",
       "      <td>Oyster Bay</td>\n",
       "      <td>United States</td>\n",
       "      <td>Residence Counselor</td>\n",
       "      <td>Mid senior</td>\n",
       "      <td>Onsite</td>\n",
       "    </tr>\n",
       "    <tr>\n",
       "      <th>6</th>\n",
       "      <td>https://www.linkedin.com/jobs/view/registered-...</td>\n",
       "      <td>2024-01-21 08:08:19.663033+00</td>\n",
       "      <td>t</td>\n",
       "      <td>t</td>\n",
       "      <td>f</td>\n",
       "      <td>Registered Nurse (RN)</td>\n",
       "      <td>Trinity Health MI</td>\n",
       "      <td>Muskegon, MI</td>\n",
       "      <td>2024-01-14</td>\n",
       "      <td>Muskegon</td>\n",
       "      <td>United States</td>\n",
       "      <td>Nurse Practitioner</td>\n",
       "      <td>Mid senior</td>\n",
       "      <td>Onsite</td>\n",
       "    </tr>\n",
       "    <tr>\n",
       "      <th>7</th>\n",
       "      <td>https://www.linkedin.com/jobs/view/part-time-h...</td>\n",
       "      <td>2024-01-21 08:08:19.912883+00</td>\n",
       "      <td>t</td>\n",
       "      <td>t</td>\n",
       "      <td>f</td>\n",
       "      <td>Part Time- HR Generalist</td>\n",
       "      <td>Creative Financial Staffing (CFS)</td>\n",
       "      <td>New York, NY</td>\n",
       "      <td>2024-01-16</td>\n",
       "      <td>White Plains</td>\n",
       "      <td>United States</td>\n",
       "      <td>Human Resource Advisor</td>\n",
       "      <td>Mid senior</td>\n",
       "      <td>Onsite</td>\n",
       "    </tr>\n",
       "    <tr>\n",
       "      <th>8</th>\n",
       "      <td>https://uk.linkedin.com/jobs/view/store-manage...</td>\n",
       "      <td>2024-01-21 08:08:20.658147+00</td>\n",
       "      <td>t</td>\n",
       "      <td>t</td>\n",
       "      <td>f</td>\n",
       "      <td>Store Manager</td>\n",
       "      <td>B&amp;M Retail</td>\n",
       "      <td>London, England, United Kingdom</td>\n",
       "      <td>2024-01-15</td>\n",
       "      <td>Slough</td>\n",
       "      <td>United Kingdom</td>\n",
       "      <td>Double</td>\n",
       "      <td>Mid senior</td>\n",
       "      <td>Onsite</td>\n",
       "    </tr>\n",
       "    <tr>\n",
       "      <th>9</th>\n",
       "      <td>https://ca.linkedin.com/jobs/view/engineering-...</td>\n",
       "      <td>2024-01-21 08:08:20.998834+00</td>\n",
       "      <td>t</td>\n",
       "      <td>t</td>\n",
       "      <td>f</td>\n",
       "      <td>Engineering Project Coordinator</td>\n",
       "      <td>Shared Health-Soins Communs</td>\n",
       "      <td>Winnipeg, Manitoba, Canada</td>\n",
       "      <td>2024-01-14</td>\n",
       "      <td>Manitoba</td>\n",
       "      <td>Canada</td>\n",
       "      <td>Program Coordinator</td>\n",
       "      <td>Mid senior</td>\n",
       "      <td>Onsite</td>\n",
       "    </tr>\n",
       "  </tbody>\n",
       "</table>\n",
       "</div>"
      ],
      "text/plain": [
       "                                            job_link  \\\n",
       "0  https://www.linkedin.com/jobs/view/account-exe...   \n",
       "1  https://www.linkedin.com/jobs/view/registered-...   \n",
       "2  https://www.linkedin.com/jobs/view/restaurant-...   \n",
       "3  https://www.linkedin.com/jobs/view/independent...   \n",
       "4  https://www.linkedin.com/jobs/view/group-unit-...   \n",
       "5  https://www.linkedin.com/jobs/view/counselor-0...   \n",
       "6  https://www.linkedin.com/jobs/view/registered-...   \n",
       "7  https://www.linkedin.com/jobs/view/part-time-h...   \n",
       "8  https://uk.linkedin.com/jobs/view/store-manage...   \n",
       "9  https://ca.linkedin.com/jobs/view/engineering-...   \n",
       "\n",
       "             last_processed_time got_summary got_ner is_being_worked  \\\n",
       "0   2024-01-21 07:12:29.00256+00           t       t               f   \n",
       "1   2024-01-21 07:39:58.88137+00           t       t               f   \n",
       "2  2024-01-21 07:40:00.251126+00           t       t               f   \n",
       "3  2024-01-21 07:40:00.308133+00           t       t               f   \n",
       "4  2024-01-19 09:45:09.215838+00           f       f               f   \n",
       "5  2024-01-19 09:45:09.215838+00           f       f               f   \n",
       "6  2024-01-21 08:08:19.663033+00           t       t               f   \n",
       "7  2024-01-21 08:08:19.912883+00           t       t               f   \n",
       "8  2024-01-21 08:08:20.658147+00           t       t               f   \n",
       "9  2024-01-21 08:08:20.998834+00           t       t               f   \n",
       "\n",
       "                                           job_title  \\\n",
       "0  Account Executive - Dispensing (NorCal/Norther...   \n",
       "1                 Registered Nurse - RN Care Manager   \n",
       "2               RESTAURANT SUPERVISOR - THE FORKLIFT   \n",
       "3                      Independent Real Estate Agent   \n",
       "4  Group/Unit Supervisor (Systems Support Manager...   \n",
       "5                                 Counselor-07532802   \n",
       "6                              Registered Nurse (RN)   \n",
       "7                           Part Time- HR Generalist   \n",
       "8                                      Store Manager   \n",
       "9                    Engineering Project Coordinator   \n",
       "\n",
       "                             company                     job_location  \\\n",
       "0                                 BD                    San Diego, CA   \n",
       "1                  Trinity Health MI                Norton Shores, MI   \n",
       "2            Wasatch Adaptive Sports                        Sandy, UT   \n",
       "3         Howard Hanna | Rand Realty             Englewood Cliffs, NJ   \n",
       "4       IRS, Office of Chief Counsel                     Chamblee, GA   \n",
       "5                                ICL                     Brooklyn, NY   \n",
       "6                  Trinity Health MI                     Muskegon, MI   \n",
       "7  Creative Financial Staffing (CFS)                     New York, NY   \n",
       "8                         B&M Retail  London, England, United Kingdom   \n",
       "9        Shared Health-Soins Communs       Winnipeg, Manitoba, Canada   \n",
       "\n",
       "   first_seen   search_city  search_country  \\\n",
       "0  2024-01-15      Coronado   United States   \n",
       "1  2024-01-14   Grand Haven   United States   \n",
       "2  2024-01-14        Tooele   United States   \n",
       "3  2024-01-16     Pinehurst   United States   \n",
       "4  2024-01-17       Gadsden   United States   \n",
       "5  2024-01-16    Oyster Bay   United States   \n",
       "6  2024-01-14      Muskegon   United States   \n",
       "7  2024-01-16  White Plains   United States   \n",
       "8  2024-01-15        Slough  United Kingdom   \n",
       "9  2024-01-14      Manitoba          Canada   \n",
       "\n",
       "                        search_position   job_level job_type  \n",
       "0                           Color Maker  Mid senior   Onsite  \n",
       "1              Director Nursing Service  Mid senior   Onsite  \n",
       "2                              Stand-In  Mid senior   Onsite  \n",
       "3                     Real-Estate Clerk  Mid senior   Onsite  \n",
       "4  Supervisor Travel-Information Center  Mid senior   Onsite  \n",
       "5                   Residence Counselor  Mid senior   Onsite  \n",
       "6                    Nurse Practitioner  Mid senior   Onsite  \n",
       "7                Human Resource Advisor  Mid senior   Onsite  \n",
       "8                                Double  Mid senior   Onsite  \n",
       "9                   Program Coordinator  Mid senior   Onsite  "
      ]
     },
     "execution_count": 3,
     "metadata": {},
     "output_type": "execute_result"
    }
   ],
   "source": [
    "#Reading the first 10 datapoints in the dataset.\n",
    "project.head(10)"
   ]
  },
  {
   "cell_type": "markdown",
   "metadata": {
    "id": "TSbQIn3evd-O"
   },
   "source": [
    "Understanding the Data"
   ]
  },
  {
   "cell_type": "code",
   "execution_count": 4,
   "metadata": {
    "colab": {
     "base_uri": "https://localhost:8080/"
    },
    "id": "yG5AiJLrvi5L",
    "outputId": "ed6ded37-4e67-4252-a987-81b3fdb4c450"
   },
   "outputs": [
    {
     "data": {
      "text/plain": [
       "search_city\n",
       "Baytown           10052\n",
       "North Carolina    10015\n",
       "Garland            9739\n",
       "Greater London     9297\n",
       "Austin             8897\n",
       "                  ...  \n",
       "Broken Hill          22\n",
       "Bundaberg            21\n",
       "Banff                21\n",
       "Revelstoke            9\n",
       "Dauphin               5\n",
       "Name: count, Length: 1018, dtype: int64"
      ]
     },
     "execution_count": 4,
     "metadata": {},
     "output_type": "execute_result"
    }
   ],
   "source": [
    "project['search_city'].value_counts()"
   ]
  },
  {
   "cell_type": "code",
   "execution_count": 5,
   "metadata": {
    "colab": {
     "base_uri": "https://localhost:8080/"
    },
    "id": "DxVX_X6Cviw0",
    "outputId": "f5c6a296-7c17-4ec4-a1df-00ab809a21e6"
   },
   "outputs": [
    {
     "data": {
      "text/plain": [
       "search_country\n",
       "United States     1149342\n",
       "United Kingdom     113421\n",
       "Canada              55972\n",
       "Australia           29719\n",
       "Name: count, dtype: int64"
      ]
     },
     "execution_count": 5,
     "metadata": {},
     "output_type": "execute_result"
    }
   ],
   "source": [
    "project['search_country'].value_counts()"
   ]
  },
  {
   "cell_type": "code",
   "execution_count": 6,
   "metadata": {
    "colab": {
     "base_uri": "https://localhost:8080/"
    },
    "id": "yKkbBUYWvitr",
    "outputId": "6e989b1f-5de9-4e3b-fe8b-aab4609fe5e2"
   },
   "outputs": [
    {
     "data": {
      "text/plain": [
       "job_type\n",
       "Onsite    1337633\n",
       "Hybrid       6562\n",
       "Remote       4259\n",
       "Name: count, dtype: int64"
      ]
     },
     "execution_count": 6,
     "metadata": {},
     "output_type": "execute_result"
    }
   ],
   "source": [
    "project['job_type'].value_counts()"
   ]
  },
  {
   "cell_type": "code",
   "execution_count": 7,
   "metadata": {
    "colab": {
     "base_uri": "https://localhost:8080/"
    },
    "id": "GLNQJYuJvipx",
    "outputId": "1edd10f5-3b16-4cfe-c84d-a58dc04275d3"
   },
   "outputs": [
    {
     "data": {
      "text/plain": [
       "company\n",
       "Health eCareers            41598\n",
       "Jobs for Humanity          27680\n",
       "TravelNurseSource          16142\n",
       "Dollar General             14815\n",
       "PracticeLink                9738\n",
       "                           ...  \n",
       "Gravity Recruit Limited        1\n",
       "Winkle Custom Homes            1\n",
       "Banco                          1\n",
       "Shred-it                       1\n",
       "BIX Produce                    1\n",
       "Name: count, Length: 90605, dtype: int64"
      ]
     },
     "execution_count": 7,
     "metadata": {},
     "output_type": "execute_result"
    }
   ],
   "source": [
    "project['company'].value_counts()"
   ]
  },
  {
   "cell_type": "code",
   "execution_count": 8,
   "metadata": {
    "colab": {
     "base_uri": "https://localhost:8080/"
    },
    "id": "QhkWuW97DTRU",
    "outputId": "2f645392-587a-4472-9c98-496730f04bd1"
   },
   "outputs": [
    {
     "data": {
      "text/plain": [
       "search_position\n",
       "Account Executive                   19468\n",
       "Christian Science Nurse             16048\n",
       "Consultant Education                12138\n",
       "Change Person                       12025\n",
       "Circulation-Sales Representative    10978\n",
       "                                    ...  \n",
       "Filter Operator                         1\n",
       "Muffler Installer                       1\n",
       "Cleaner Wall                            1\n",
       "Dry-End Operator                        1\n",
       "Playroom Attendant                      1\n",
       "Name: count, Length: 1993, dtype: int64"
      ]
     },
     "execution_count": 8,
     "metadata": {},
     "output_type": "execute_result"
    }
   ],
   "source": [
    "project['search_position'].value_counts()"
   ]
  },
  {
   "cell_type": "code",
   "execution_count": 9,
   "metadata": {
    "colab": {
     "base_uri": "https://localhost:8080/"
    },
    "id": "RqDPYDh1vim0",
    "outputId": "51f9cf97-cd38-40f5-c27e-953eb229dea4"
   },
   "outputs": [
    {
     "data": {
      "text/plain": [
       "job_title\n",
       "LEAD SALES ASSOCIATE-FT                                                                                    7325\n",
       "Shift Manager                                                                                              5818\n",
       "First Year Tax Professional                                                                                5356\n",
       "Assistant Manager                                                                                          5346\n",
       "Customer Service Representative                                                                            5203\n",
       "                                                                                                           ... \n",
       "Assistant Salon Manager - Villages at Waterville Landing                                                      1\n",
       "Senior Specialist, Program Scheduler                                                                          1\n",
       "Retail Store Associate Warehouse Part Time Homesense - Sherwood Park Square                                   1\n",
       "Ultrasound Technologist, Days                                                                                 1\n",
       "On-Demand: Guest Advocate (Cashier), General Merchandise, Fulfillment, Food and Beverage, Style (T2632)       1\n",
       "Name: count, Length: 584544, dtype: int64"
      ]
     },
     "execution_count": 9,
     "metadata": {},
     "output_type": "execute_result"
    }
   ],
   "source": [
    "project['job_title'].value_counts()"
   ]
  },
  {
   "cell_type": "code",
   "execution_count": 10,
   "metadata": {
    "colab": {
     "base_uri": "https://localhost:8080/"
    },
    "id": "0aMSWXT-vTI_",
    "outputId": "9081d99a-2348-411a-d19d-15ab0d5126bf"
   },
   "outputs": [
    {
     "data": {
      "text/plain": [
       "job_level\n",
       "Mid senior    1204445\n",
       "Associate      144009\n",
       "Name: count, dtype: int64"
      ]
     },
     "execution_count": 10,
     "metadata": {},
     "output_type": "execute_result"
    }
   ],
   "source": [
    "project['job_level'].value_counts()"
   ]
  },
  {
   "cell_type": "markdown",
   "metadata": {
    "id": "6GAcq2pquWxb"
   },
   "source": [
    "Data Preprocessing Steps:\n"
   ]
  },
  {
   "cell_type": "code",
   "execution_count": 11,
   "metadata": {
    "colab": {
     "base_uri": "https://localhost:8080/"
    },
    "id": "IFXaWLp-Bhtt",
    "outputId": "33ef4420-2374-4e31-c7ce-febdfcbcacf4"
   },
   "outputs": [
    {
     "data": {
      "text/plain": [
       "job_link               object\n",
       "last_processed_time    object\n",
       "got_summary            object\n",
       "got_ner                object\n",
       "is_being_worked        object\n",
       "job_title              object\n",
       "company                object\n",
       "job_location           object\n",
       "first_seen             object\n",
       "search_city            object\n",
       "search_country         object\n",
       "search_position        object\n",
       "job_level              object\n",
       "job_type               object\n",
       "dtype: object"
      ]
     },
     "execution_count": 11,
     "metadata": {},
     "output_type": "execute_result"
    }
   ],
   "source": [
    "#Looking at the datatypes in the dataset.\n",
    "project.dtypes"
   ]
  },
  {
   "cell_type": "code",
   "execution_count": 12,
   "metadata": {
    "colab": {
     "base_uri": "https://localhost:8080/",
     "height": 247
    },
    "id": "QkHaZ9ifCFAA",
    "outputId": "52e8f722-a982-4451-fa43-c3efe2fa9c87"
   },
   "outputs": [
    {
     "data": {
      "text/html": [
       "<div>\n",
       "<style scoped>\n",
       "    .dataframe tbody tr th:only-of-type {\n",
       "        vertical-align: middle;\n",
       "    }\n",
       "\n",
       "    .dataframe tbody tr th {\n",
       "        vertical-align: top;\n",
       "    }\n",
       "\n",
       "    .dataframe thead th {\n",
       "        text-align: right;\n",
       "    }\n",
       "</style>\n",
       "<table border=\"1\" class=\"dataframe\">\n",
       "  <thead>\n",
       "    <tr style=\"text-align: right;\">\n",
       "      <th></th>\n",
       "      <th>job_link</th>\n",
       "      <th>last_processed_time</th>\n",
       "      <th>got_summary</th>\n",
       "      <th>got_ner</th>\n",
       "      <th>is_being_worked</th>\n",
       "      <th>job_title</th>\n",
       "      <th>company</th>\n",
       "      <th>job_location</th>\n",
       "      <th>first_seen</th>\n",
       "      <th>search_city</th>\n",
       "      <th>search_country</th>\n",
       "      <th>search_position</th>\n",
       "      <th>job_level</th>\n",
       "      <th>job_type</th>\n",
       "    </tr>\n",
       "  </thead>\n",
       "  <tbody>\n",
       "    <tr>\n",
       "      <th>count</th>\n",
       "      <td>1348454</td>\n",
       "      <td>1348454</td>\n",
       "      <td>1348454</td>\n",
       "      <td>1348454</td>\n",
       "      <td>1348454</td>\n",
       "      <td>1348454</td>\n",
       "      <td>1348443</td>\n",
       "      <td>1348435</td>\n",
       "      <td>1348454</td>\n",
       "      <td>1348454</td>\n",
       "      <td>1348454</td>\n",
       "      <td>1348454</td>\n",
       "      <td>1348454</td>\n",
       "      <td>1348454</td>\n",
       "    </tr>\n",
       "    <tr>\n",
       "      <th>unique</th>\n",
       "      <td>1348454</td>\n",
       "      <td>722748</td>\n",
       "      <td>2</td>\n",
       "      <td>2</td>\n",
       "      <td>2</td>\n",
       "      <td>584544</td>\n",
       "      <td>90605</td>\n",
       "      <td>29153</td>\n",
       "      <td>6</td>\n",
       "      <td>1018</td>\n",
       "      <td>4</td>\n",
       "      <td>1993</td>\n",
       "      <td>2</td>\n",
       "      <td>3</td>\n",
       "    </tr>\n",
       "    <tr>\n",
       "      <th>top</th>\n",
       "      <td>https://www.linkedin.com/jobs/view/account-exe...</td>\n",
       "      <td>2024-01-19 09:45:09.215838+00</td>\n",
       "      <td>t</td>\n",
       "      <td>t</td>\n",
       "      <td>f</td>\n",
       "      <td>LEAD SALES ASSOCIATE-FT</td>\n",
       "      <td>Health eCareers</td>\n",
       "      <td>New York, NY</td>\n",
       "      <td>2024-01-14</td>\n",
       "      <td>Baytown</td>\n",
       "      <td>United States</td>\n",
       "      <td>Account Executive</td>\n",
       "      <td>Mid senior</td>\n",
       "      <td>Onsite</td>\n",
       "    </tr>\n",
       "    <tr>\n",
       "      <th>freq</th>\n",
       "      <td>1</td>\n",
       "      <td>625540</td>\n",
       "      <td>1297877</td>\n",
       "      <td>1296401</td>\n",
       "      <td>1346978</td>\n",
       "      <td>7325</td>\n",
       "      <td>41598</td>\n",
       "      <td>13436</td>\n",
       "      <td>460035</td>\n",
       "      <td>10052</td>\n",
       "      <td>1149342</td>\n",
       "      <td>19468</td>\n",
       "      <td>1204445</td>\n",
       "      <td>1337633</td>\n",
       "    </tr>\n",
       "  </tbody>\n",
       "</table>\n",
       "</div>"
      ],
      "text/plain": [
       "                                                 job_link  \\\n",
       "count                                             1348454   \n",
       "unique                                            1348454   \n",
       "top     https://www.linkedin.com/jobs/view/account-exe...   \n",
       "freq                                                    1   \n",
       "\n",
       "                  last_processed_time got_summary  got_ner is_being_worked  \\\n",
       "count                         1348454     1348454  1348454         1348454   \n",
       "unique                         722748           2        2               2   \n",
       "top     2024-01-19 09:45:09.215838+00           t        t               f   \n",
       "freq                           625540     1297877  1296401         1346978   \n",
       "\n",
       "                      job_title          company  job_location  first_seen  \\\n",
       "count                   1348454          1348443       1348435     1348454   \n",
       "unique                   584544            90605         29153           6   \n",
       "top     LEAD SALES ASSOCIATE-FT  Health eCareers  New York, NY  2024-01-14   \n",
       "freq                       7325            41598         13436      460035   \n",
       "\n",
       "       search_city search_country    search_position   job_level job_type  \n",
       "count      1348454        1348454            1348454     1348454  1348454  \n",
       "unique        1018              4               1993           2        3  \n",
       "top        Baytown  United States  Account Executive  Mid senior   Onsite  \n",
       "freq         10052        1149342              19468     1204445  1337633  "
      ]
     },
     "execution_count": 12,
     "metadata": {},
     "output_type": "execute_result"
    }
   ],
   "source": [
    "#Looking at the unique count and count of the dataset.\n",
    "project.describe()"
   ]
  },
  {
   "cell_type": "code",
   "execution_count": 13,
   "metadata": {
    "colab": {
     "base_uri": "https://localhost:8080/"
    },
    "id": "FmawY3OxCVvS",
    "outputId": "357f0889-6503-4afc-915a-df95346159e4"
   },
   "outputs": [
    {
     "data": {
      "text/plain": [
       "(1348454, 14)"
      ]
     },
     "execution_count": 13,
     "metadata": {},
     "output_type": "execute_result"
    }
   ],
   "source": [
    "#Understanding the shape and size of the dataset.\n",
    "project.shape"
   ]
  },
  {
   "cell_type": "markdown",
   "metadata": {
    "id": "uFhG_xxNuj0-"
   },
   "source": [
    "Since the dataset is large and all the features cannot be visualised, I have plotted the data that have fewer features."
   ]
  },
  {
   "cell_type": "code",
   "execution_count": 14,
   "metadata": {
    "colab": {
     "base_uri": "https://localhost:8080/",
     "height": 639
    },
    "id": "kx1iTtVlDVLQ",
    "outputId": "221d7cf2-2564-4f1b-b82e-ff9d5e83ddaf"
   },
   "outputs": [
    {
     "data": {
      "image/png": "[encoded data removed]",
      "text/plain": [
       "<Figure size 1000x600 with 1 Axes>"
      ]
     },
     "metadata": {},
     "output_type": "display_data"
    }
   ],
   "source": [
    "import matplotlib.pyplot as plt\n",
    "\n",
    "# Plotting the distribution of job titles based on country\n",
    "plt.figure(figsize=(10, 6))\n",
    "project['search_country'].value_counts().plot(kind='bar', color='red')\n",
    "plt.xlabel('Country located')\n",
    "plt.ylabel('Count')\n",
    "plt.title('Count of jobs located per country in Millions')\n",
    "plt.xticks(rotation=45)\n",
    "plt.grid(axis='y')\n",
    "plt.show()"
   ]
  },
  {
   "cell_type": "code",
   "execution_count": 15,
   "metadata": {
    "colab": {
     "base_uri": "https://localhost:8080/",
     "height": 598
    },
    "id": "LZLvMt3tGTfi",
    "outputId": "8fbe4acc-e186-4789-80a9-063c5ab57eb5"
   },
   "outputs": [
    {
     "data": {
      "image/png": "[encoded data removed]",
      "text/plain": [
       "<Figure size 1000x600 with 1 Axes>"
      ]
     },
     "metadata": {},
     "output_type": "display_data"
    }
   ],
   "source": [
    "# Plot the distribution of work mode of job\n",
    "plt.figure(figsize=(10, 6))\n",
    "project['job_type'].value_counts().plot(kind='bar', color='Black')\n",
    "plt.xlabel('Type of Job')\n",
    "plt.ylabel('Count')\n",
    "plt.title('Count of jobs based on their work mode in millions')\n",
    "plt.xticks(rotation=45)\n",
    "plt.grid(axis='y')\n",
    "plt.show()"
   ]
  },
  {
   "cell_type": "code",
   "execution_count": 16,
   "metadata": {
    "colab": {
     "base_uri": "https://localhost:8080/",
     "height": 611
    },
    "id": "FtjiZwe1M1vx",
    "outputId": "3cadaed4-4341-4d7a-89db-ef546afc1e19"
   },
   "outputs": [
    {
     "data": {
      "image/png": "[encoded data removed]",
      "text/plain": [
       "<Figure size 1000x600 with 1 Axes>"
      ]
     },
     "metadata": {},
     "output_type": "display_data"
    }
   ],
   "source": [
    "# Plotting the distribution of Level of Job\n",
    "plt.figure(figsize=(10, 6))\n",
    "project['job_level'].value_counts().plot(kind='bar', color='Black')\n",
    "plt.xlabel('level of Job')\n",
    "plt.ylabel('Count')\n",
    "plt.title('Count of the level of the job in Millions')\n",
    "plt.xticks(rotation=45)\n",
    "plt.grid(axis='y')\n",
    "plt.show()"
   ]
  },
  {
   "cell_type": "markdown",
   "metadata": {
    "id": "em7xz7CTPeLR"
   },
   "source": [
    "As we see from the plots the size of the dataset is too large we shift our focus into picking the unique count from the dataset, and continuing with the pre-processing."
   ]
  },
  {
   "cell_type": "code",
   "execution_count": 17,
   "metadata": {
    "colab": {
     "base_uri": "https://localhost:8080/"
    },
    "id": "ivaLm2GkNi9X",
    "outputId": "0069ece4-25b2-4ffd-9c2a-4d0ff913a28c"
   },
   "outputs": [
    {
     "name": "stdout",
     "output_type": "stream",
     "text": [
      "Unique values in column 'job_link':\n",
      "['https://www.linkedin.com/jobs/view/account-executive-dispensing-norcal-northern-nevada-becton-dickinson-at-bd-3802078767'\n",
      " 'https://www.linkedin.com/jobs/view/registered-nurse-rn-care-manager-at-trinity-health-mi-3803386312'\n",
      " 'https://www.linkedin.com/jobs/view/restaurant-supervisor-the-forklift-at-wasatch-adaptive-sports-3771464419'\n",
      " ...\n",
      " 'https://www.linkedin.com/jobs/view/executive-chef-operations-support-at-nexdine-hospitality-3739779610'\n",
      " 'https://www.linkedin.com/jobs/view/rn-registered-nurse-analyst-23934913expplat-at-travelnursesource-3802207476'\n",
      " 'https://www.linkedin.com/jobs/view/on-demand-guest-advocate-cashier-general-merchandise-fulfillment-food-and-beverage-style-t2632-at-target-3734494804']\n",
      "\n",
      "Unique values in column 'last_processed_time':\n",
      "['2024-01-21 07:12:29.00256+00' '2024-01-21 07:39:58.88137+00'\n",
      " '2024-01-21 07:40:00.251126+00' ... '2024-01-21 07:40:00.304641+00'\n",
      " '2024-01-21 00:38:39.816821+00' '2024-01-21 00:38:44.231492+00']\n",
      "\n",
      "Unique values in column 'got_summary':\n",
      "['t' 'f']\n",
      "\n",
      "Unique values in column 'got_ner':\n",
      "['t' 'f']\n",
      "\n",
      "Unique values in column 'is_being_worked':\n",
      "['f' 't']\n",
      "\n",
      "Unique values in column 'job_title':\n",
      "['Account Executive - Dispensing (NorCal/Northern Nevada) - Becton Dickinson'\n",
      " 'Registered Nurse - RN Care Manager'\n",
      " 'RESTAURANT SUPERVISOR - THE FORKLIFT' ...\n",
      " 'Registered Nurse (RN) #CP-RN-7998660 - 24116274EXPPLAT /'\n",
      " 'Executive Chef, Operations Support'\n",
      " 'On-Demand: Guest Advocate (Cashier), General Merchandise, Fulfillment, Food and Beverage, Style (T2632)']\n",
      "\n",
      "Unique values in column 'company':\n",
      "['BD' 'Trinity Health MI' 'Wasatch Adaptive Sports' ...\n",
      " 'Transplant Life Foundation' 'GMA Garnet Group' 'BIX Produce']\n",
      "\n",
      "Unique values in column 'job_location':\n",
      "['San Diego, CA' 'Norton Shores, MI' 'Sandy, UT' ... 'Lemon Cove, CA'\n",
      " 'Nineveh, IN' 'Yallabatharra, Western Australia, Australia']\n",
      "\n",
      "Unique values in column 'first_seen':\n",
      "['2024-01-15' '2024-01-14' '2024-01-16' '2024-01-17' '2024-01-13'\n",
      " '2024-01-12']\n",
      "\n",
      "Unique values in column 'search_city':\n",
      "['Coronado' 'Grand Haven' 'Tooele' ... 'Saskatoon' 'Dauphin' 'Wellington']\n",
      "\n",
      "Unique values in column 'search_country':\n",
      "['United States' 'United Kingdom' 'Canada' 'Australia']\n",
      "\n",
      "Unique values in column 'search_position':\n",
      "['Color Maker' 'Director Nursing Service' 'Stand-In' ...\n",
      " 'Dental-Laboratory Technician' 'Ticketing Clerk' 'Playroom Attendant']\n",
      "\n",
      "Unique values in column 'job_level':\n",
      "['Mid senior' 'Associate']\n",
      "\n",
      "Unique values in column 'job_type':\n",
      "['Onsite' 'Hybrid' 'Remote']\n",
      "\n"
     ]
    }
   ],
   "source": [
    "unique_values = {}\n",
    "for column in project.columns:\n",
    "    unique_values[column] = project[column].unique()\n",
    "\n",
    "# Printing unique values for each column\n",
    "for column, values in unique_values.items():\n",
    "    print(f\"Unique values in column '{column}':\")\n",
    "    print(values)\n",
    "    print()"
   ]
  },
  {
   "cell_type": "code",
   "execution_count": 18,
   "metadata": {
    "colab": {
     "base_uri": "https://localhost:8080/"
    },
    "id": "6vD8PrJ5irnY",
    "outputId": "094f5e25-a72b-46ee-e658-181feaa5ac48"
   },
   "outputs": [
    {
     "data": {
      "text/plain": [
       "job_link                0\n",
       "last_processed_time     0\n",
       "got_summary             0\n",
       "got_ner                 0\n",
       "is_being_worked         0\n",
       "job_title               0\n",
       "company                11\n",
       "job_location           19\n",
       "first_seen              0\n",
       "search_city             0\n",
       "search_country          0\n",
       "search_position         0\n",
       "job_level               0\n",
       "job_type                0\n",
       "dtype: int64"
      ]
     },
     "execution_count": 18,
     "metadata": {},
     "output_type": "execute_result"
    }
   ],
   "source": [
    "# Checking for null values\n",
    "null_values = project.isnull().sum()\n",
    "\n",
    "null_values"
   ]
  },
  {
   "cell_type": "markdown",
   "metadata": {
    "id": "6tdGUJWBTp-U"
   },
   "source": [
    "After observing the data i understood that the data has the first seen, job location repeating as the same as city and hence i dropped the columns for the final pre-processing steps:"
   ]
  },
  {
   "cell_type": "code",
   "execution_count": 19,
   "metadata": {
    "id": "4pkAB3Y5VNG7"
   },
   "outputs": [],
   "source": [
    "project.drop(columns=['got_summary', 'got_ner', 'is_being_worked','job_location','first_seen'], inplace=True)\n"
   ]
  },
  {
   "cell_type": "code",
   "execution_count": 20,
   "metadata": {
    "colab": {
     "base_uri": "https://localhost:8080/",
     "height": 411
    },
    "id": "QnbIr4qyy_B7",
    "outputId": "3460038a-317d-4d7b-df2d-74d1d1cfa4d3"
   },
   "outputs": [
    {
     "data": {
      "text/html": [
       "<div>\n",
       "<style scoped>\n",
       "    .dataframe tbody tr th:only-of-type {\n",
       "        vertical-align: middle;\n",
       "    }\n",
       "\n",
       "    .dataframe tbody tr th {\n",
       "        vertical-align: top;\n",
       "    }\n",
       "\n",
       "    .dataframe thead th {\n",
       "        text-align: right;\n",
       "    }\n",
       "</style>\n",
       "<table border=\"1\" class=\"dataframe\">\n",
       "  <thead>\n",
       "    <tr style=\"text-align: right;\">\n",
       "      <th></th>\n",
       "      <th>job_link</th>\n",
       "      <th>last_processed_time</th>\n",
       "      <th>job_title</th>\n",
       "      <th>company</th>\n",
       "      <th>search_city</th>\n",
       "      <th>search_country</th>\n",
       "      <th>search_position</th>\n",
       "      <th>job_level</th>\n",
       "      <th>job_type</th>\n",
       "    </tr>\n",
       "  </thead>\n",
       "  <tbody>\n",
       "    <tr>\n",
       "      <th>0</th>\n",
       "      <td>https://www.linkedin.com/jobs/view/account-exe...</td>\n",
       "      <td>2024-01-21 07:12:29.00256+00</td>\n",
       "      <td>Account Executive - Dispensing (NorCal/Norther...</td>\n",
       "      <td>BD</td>\n",
       "      <td>Coronado</td>\n",
       "      <td>United States</td>\n",
       "      <td>Color Maker</td>\n",
       "      <td>Mid senior</td>\n",
       "      <td>Onsite</td>\n",
       "    </tr>\n",
       "    <tr>\n",
       "      <th>1</th>\n",
       "      <td>https://www.linkedin.com/jobs/view/registered-...</td>\n",
       "      <td>2024-01-21 07:39:58.88137+00</td>\n",
       "      <td>Registered Nurse - RN Care Manager</td>\n",
       "      <td>Trinity Health MI</td>\n",
       "      <td>Grand Haven</td>\n",
       "      <td>United States</td>\n",
       "      <td>Director Nursing Service</td>\n",
       "      <td>Mid senior</td>\n",
       "      <td>Onsite</td>\n",
       "    </tr>\n",
       "    <tr>\n",
       "      <th>2</th>\n",
       "      <td>https://www.linkedin.com/jobs/view/restaurant-...</td>\n",
       "      <td>2024-01-21 07:40:00.251126+00</td>\n",
       "      <td>RESTAURANT SUPERVISOR - THE FORKLIFT</td>\n",
       "      <td>Wasatch Adaptive Sports</td>\n",
       "      <td>Tooele</td>\n",
       "      <td>United States</td>\n",
       "      <td>Stand-In</td>\n",
       "      <td>Mid senior</td>\n",
       "      <td>Onsite</td>\n",
       "    </tr>\n",
       "    <tr>\n",
       "      <th>3</th>\n",
       "      <td>https://www.linkedin.com/jobs/view/independent...</td>\n",
       "      <td>2024-01-21 07:40:00.308133+00</td>\n",
       "      <td>Independent Real Estate Agent</td>\n",
       "      <td>Howard Hanna | Rand Realty</td>\n",
       "      <td>Pinehurst</td>\n",
       "      <td>United States</td>\n",
       "      <td>Real-Estate Clerk</td>\n",
       "      <td>Mid senior</td>\n",
       "      <td>Onsite</td>\n",
       "    </tr>\n",
       "    <tr>\n",
       "      <th>4</th>\n",
       "      <td>https://www.linkedin.com/jobs/view/group-unit-...</td>\n",
       "      <td>2024-01-19 09:45:09.215838+00</td>\n",
       "      <td>Group/Unit Supervisor (Systems Support Manager...</td>\n",
       "      <td>IRS, Office of Chief Counsel</td>\n",
       "      <td>Gadsden</td>\n",
       "      <td>United States</td>\n",
       "      <td>Supervisor Travel-Information Center</td>\n",
       "      <td>Mid senior</td>\n",
       "      <td>Onsite</td>\n",
       "    </tr>\n",
       "    <tr>\n",
       "      <th>5</th>\n",
       "      <td>https://www.linkedin.com/jobs/view/counselor-0...</td>\n",
       "      <td>2024-01-19 09:45:09.215838+00</td>\n",
       "      <td>Counselor-07532802</td>\n",
       "      <td>ICL</td>\n",
       "      <td>Oyster Bay</td>\n",
       "      <td>United States</td>\n",
       "      <td>Residence Counselor</td>\n",
       "      <td>Mid senior</td>\n",
       "      <td>Onsite</td>\n",
       "    </tr>\n",
       "  </tbody>\n",
       "</table>\n",
       "</div>"
      ],
      "text/plain": [
       "                                            job_link  \\\n",
       "0  https://www.linkedin.com/jobs/view/account-exe...   \n",
       "1  https://www.linkedin.com/jobs/view/registered-...   \n",
       "2  https://www.linkedin.com/jobs/view/restaurant-...   \n",
       "3  https://www.linkedin.com/jobs/view/independent...   \n",
       "4  https://www.linkedin.com/jobs/view/group-unit-...   \n",
       "5  https://www.linkedin.com/jobs/view/counselor-0...   \n",
       "\n",
       "             last_processed_time  \\\n",
       "0   2024-01-21 07:12:29.00256+00   \n",
       "1   2024-01-21 07:39:58.88137+00   \n",
       "2  2024-01-21 07:40:00.251126+00   \n",
       "3  2024-01-21 07:40:00.308133+00   \n",
       "4  2024-01-19 09:45:09.215838+00   \n",
       "5  2024-01-19 09:45:09.215838+00   \n",
       "\n",
       "                                           job_title  \\\n",
       "0  Account Executive - Dispensing (NorCal/Norther...   \n",
       "1                 Registered Nurse - RN Care Manager   \n",
       "2               RESTAURANT SUPERVISOR - THE FORKLIFT   \n",
       "3                      Independent Real Estate Agent   \n",
       "4  Group/Unit Supervisor (Systems Support Manager...   \n",
       "5                                 Counselor-07532802   \n",
       "\n",
       "                        company  search_city search_country  \\\n",
       "0                            BD     Coronado  United States   \n",
       "1             Trinity Health MI  Grand Haven  United States   \n",
       "2       Wasatch Adaptive Sports       Tooele  United States   \n",
       "3    Howard Hanna | Rand Realty    Pinehurst  United States   \n",
       "4  IRS, Office of Chief Counsel      Gadsden  United States   \n",
       "5                           ICL   Oyster Bay  United States   \n",
       "\n",
       "                        search_position   job_level job_type  \n",
       "0                           Color Maker  Mid senior   Onsite  \n",
       "1              Director Nursing Service  Mid senior   Onsite  \n",
       "2                              Stand-In  Mid senior   Onsite  \n",
       "3                     Real-Estate Clerk  Mid senior   Onsite  \n",
       "4  Supervisor Travel-Information Center  Mid senior   Onsite  \n",
       "5                   Residence Counselor  Mid senior   Onsite  "
      ]
     },
     "execution_count": 20,
     "metadata": {},
     "output_type": "execute_result"
    }
   ],
   "source": [
    "project.head(6)"
   ]
  },
  {
   "cell_type": "markdown",
   "metadata": {
    "id": "Iqi0v3McUG8A"
   },
   "source": [
    "We then import libraries to fit our model with KNN."
   ]
  },
  {
   "cell_type": "markdown",
   "metadata": {
    "id": "dWD5gJKcVKe9"
   },
   "source": [
    "I used TF-IDF vectors derived from job titles to initialize and fit a KNN model with a cosine similarity metric. I then set up to locate the six closest neighbors for every type of position entered."
   ]
  },
  {
   "cell_type": "code",
   "execution_count": 21,
   "metadata": {
    "colab": {
     "base_uri": "https://localhost:8080/",
     "height": 75
    },
    "id": "iZ_rqDVq3OEX",
    "outputId": "101ec31b-4e60-4370-96d0-8340dc023cb0"
   },
   "outputs": [
    {
     "data": {
      "text/html": [
       "<style>#sk-container-id-1 {color: black;}#sk-container-id-1 pre{padding: 0;}#sk-container-id-1 div.sk-toggleable {background-color: white;}#sk-container-id-1 label.sk-toggleable__label {cursor: pointer;display: block;width: 100%;margin-bottom: 0;padding: 0.3em;box-sizing: border-box;text-align: center;}#sk-container-id-1 label.sk-toggleable__label-arrow:before {content: \"▸\";float: left;margin-right: 0.25em;color: #696969;}#sk-container-id-1 label.sk-toggleable__label-arrow:hover:before {color: black;}#sk-container-id-1 div.sk-estimator:hover label.sk-toggleable__label-arrow:before {color: black;}#sk-container-id-1 div.sk-toggleable__content {max-height: 0;max-width: 0;overflow: hidden;text-align: left;background-color: #f0f8ff;}#sk-container-id-1 div.sk-toggleable__content pre {margin: 0.2em;color: black;border-radius: 0.25em;background-color: #f0f8ff;}#sk-container-id-1 input.sk-toggleable__control:checked~div.sk-toggleable__content {max-height: 200px;max-width: 100%;overflow: auto;}#sk-container-id-1 input.sk-toggleable__control:checked~label.sk-toggleable__label-arrow:before {content: \"▾\";}#sk-container-id-1 div.sk-estimator input.sk-toggleable__control:checked~label.sk-toggleable__label {background-color: #d4ebff;}#sk-container-id-1 div.sk-label input.sk-toggleable__control:checked~label.sk-toggleable__label {background-color: #d4ebff;}#sk-container-id-1 input.sk-hidden--visually {border: 0;clip: rect(1px 1px 1px 1px);clip: rect(1px, 1px, 1px, 1px);height: 1px;margin: -1px;overflow: hidden;padding: 0;position: absolute;width: 1px;}#sk-container-id-1 div.sk-estimator {font-family: monospace;background-color: #f0f8ff;border: 1px dotted black;border-radius: 0.25em;box-sizing: border-box;margin-bottom: 0.5em;}#sk-container-id-1 div.sk-estimator:hover {background-color: #d4ebff;}#sk-container-id-1 div.sk-parallel-item::after {content: \"\";width: 100%;border-bottom: 1px solid gray;flex-grow: 1;}#sk-container-id-1 div.sk-label:hover label.sk-toggleable__label {background-color: #d4ebff;}#sk-container-id-1 div.sk-serial::before {content: \"\";position: absolute;border-left: 1px solid gray;box-sizing: border-box;top: 0;bottom: 0;left: 50%;z-index: 0;}#sk-container-id-1 div.sk-serial {display: flex;flex-direction: column;align-items: center;background-color: white;padding-right: 0.2em;padding-left: 0.2em;position: relative;}#sk-container-id-1 div.sk-item {position: relative;z-index: 1;}#sk-container-id-1 div.sk-parallel {display: flex;align-items: stretch;justify-content: center;background-color: white;position: relative;}#sk-container-id-1 div.sk-item::before, #sk-container-id-1 div.sk-parallel-item::before {content: \"\";position: absolute;border-left: 1px solid gray;box-sizing: border-box;top: 0;bottom: 0;left: 50%;z-index: -1;}#sk-container-id-1 div.sk-parallel-item {display: flex;flex-direction: column;z-index: 1;position: relative;background-color: white;}#sk-container-id-1 div.sk-parallel-item:first-child::after {align-self: flex-end;width: 50%;}#sk-container-id-1 div.sk-parallel-item:last-child::after {align-self: flex-start;width: 50%;}#sk-container-id-1 div.sk-parallel-item:only-child::after {width: 0;}#sk-container-id-1 div.sk-dashed-wrapped {border: 1px dashed gray;margin: 0 0.4em 0.5em 0.4em;box-sizing: border-box;padding-bottom: 0.4em;background-color: white;}#sk-container-id-1 div.sk-label label {font-family: monospace;font-weight: bold;display: inline-block;line-height: 1.2em;}#sk-container-id-1 div.sk-label-container {text-align: center;}#sk-container-id-1 div.sk-container {/* jupyter's `normalize.less` sets `[hidden] { display: none; }` but bootstrap.min.css set `[hidden] { display: none !important; }` so we also need the `!important` here to be able to override the default hidden behavior on the sphinx rendered scikit-learn.org. See: https://github.com/scikit-learn/scikit-learn/issues/21755 */display: inline-block !important;position: relative;}#sk-container-id-1 div.sk-text-repr-fallback {display: none;}</style><div id=\"sk-container-id-1\" class=\"sk-top-container\"><div class=\"sk-text-repr-fallback\"><pre>NearestNeighbors(metric=&#x27;cosine&#x27;, n_neighbors=6)</pre><b>In a Jupyter environment, please rerun this cell to show the HTML representation or trust the notebook. <br />On GitHub, the HTML representation is unable to render, please try loading this page with nbviewer.org.</b></div><div class=\"sk-container\" hidden><div class=\"sk-item\"><div class=\"sk-estimator sk-toggleable\"><input class=\"sk-toggleable__control sk-hidden--visually\" id=\"sk-estimator-id-1\" type=\"checkbox\" checked><label for=\"sk-estimator-id-1\" class=\"sk-toggleable__label sk-toggleable__label-arrow\">NearestNeighbors</label><div class=\"sk-toggleable__content\"><pre>NearestNeighbors(metric=&#x27;cosine&#x27;, n_neighbors=6)</pre></div></div></div></div></div>"
      ],
      "text/plain": [
       "NearestNeighbors(metric='cosine', n_neighbors=6)"
      ]
     },
     "execution_count": 21,
     "metadata": {},
     "output_type": "execute_result"
    }
   ],
   "source": [
    "from sklearn.feature_extraction.text import TfidfVectorizer\n",
    "from sklearn.neighbors import NearestNeighbors\n",
    "from sklearn.preprocessing import LabelEncoder\n",
    "\n",
    "# Preprocessing\n",
    "# converting categorical variable 'search_position' into numerical values.\n",
    "label_encoder = LabelEncoder()\n",
    "project['search_position_encoded'] = label_encoder.fit_transform(project['search_position'])\n",
    "\n",
    "# I am using TFIDF to transform the 'job titles' into numerical vectors.\n",
    "vectorizer = TfidfVectorizer()\n",
    "\n",
    "# Fitting and transforming TF-IDF on job titles\n",
    "X = vectorizer.fit_transform(project['job_title'])\n",
    "\n",
    "# Fitting the KNN model\n",
    "knn = NearestNeighbors(n_neighbors=6, metric='cosine')\n",
    "knn.fit(X)\n"
   ]
  },
  {
   "cell_type": "code",
   "execution_count": 22,
   "metadata": {
    "colab": {
     "base_uri": "https://localhost:8080/"
    },
    "id": "jQrVFai6khVv",
    "outputId": "819dafc9-fd6a-4b1d-9565-b3af6d5eb7b9"
   },
   "outputs": [
    {
     "data": {
      "text/plain": [
       "(1348454, 84424)"
      ]
     },
     "execution_count": 22,
     "metadata": {},
     "output_type": "execute_result"
    }
   ],
   "source": [
    "#Understanding the size of fitted model.\n",
    "X.shape"
   ]
  },
  {
   "cell_type": "markdown",
   "metadata": {
    "id": "eNPKM0azWUnY"
   },
   "source": [
    "Since the dataset may not have all the types of position i wrote a function to check if a specific position is available or not in the predicted dataset inorder to check the working of the model"
   ]
  },
  {
   "cell_type": "code",
   "execution_count": 23,
   "metadata": {
    "id": "JPOiR6uwBRr3"
   },
   "outputs": [],
   "source": [
    "# Wrote a Function to recommend job titles based on search position\n",
    "def job_title_recommendation(search_position):\n",
    "    search_position_vector = vectorizer.transform([search_position])\n",
    "    \n",
    "    # Finding the nearest neighbors\n",
    "    distances, indices = knn.kneighbors(search_position_vector)\n",
    "\n",
    "    # Getting the recommended job titles and details\n",
    "    recommended_jobs = []\n",
    "    for i, j in enumerate(indices[0]):\n",
    "        job_details = project.iloc[j]\n",
    "        similarity_score = 1 - distances[0][i]  #This line converts distance to similarity score\n",
    "        recommended_jobs.append((job_details, similarity_score))\n",
    "\n",
    "    return recommended_jobs"
   ]
  },
  {
   "cell_type": "code",
   "execution_count": 24,
   "metadata": {
    "colab": {
     "base_uri": "https://localhost:8080/"
    },
    "id": "kQGOzfpNmgNq",
    "outputId": "c02304a6-1342-4a5b-fdce-d96ae4a7dfd9",
    "scrolled": true
   },
   "outputs": [
    {
     "name": "stdout",
     "output_type": "stream",
     "text": [
      "Enter search position: data analyst\n",
      "Recommended Jobs:\n",
      "Job Title: Data Analyst\n",
      "Company: Volt\n",
      "Job Link: https://www.linkedin.com/jobs/view/data-analyst-at-volt-3804368348\n",
      "Search City: Oregon\n",
      "Search Country: United States\n",
      "Last Processed Time: 2024-01-19 09:45:09.215838+00\n",
      "Job Level: Associate\n",
      "Job Type: Onsite\n",
      "Similarity Score: 1.0\n",
      "\n",
      "Job Title: Data Analyst\n",
      "Company: The Australian National University\n",
      "Job Link: https://au.linkedin.com/jobs/view/data-analyst-at-the-australian-national-university-3783350201\n",
      "Search City: Canberra\n",
      "Search Country: Australia\n",
      "Last Processed Time: 2024-01-19 09:45:09.215838+00\n",
      "Job Level: Mid senior\n",
      "Job Type: Onsite\n",
      "Similarity Score: 1.0\n",
      "\n",
      "Job Title: Data Analyst I\n",
      "Company: Dice\n",
      "Job Link: https://www.linkedin.com/jobs/view/data-analyst-i-at-dice-3805951329\n",
      "Search City: Columbia\n",
      "Search Country: United States\n",
      "Last Processed Time: 2024-01-19 21:58:08.4243+00\n",
      "Job Level: Mid senior\n",
      "Job Type: Onsite\n",
      "Similarity Score: 1.0\n",
      "\n",
      "Job Title: Data Analyst\n",
      "Company: People Tech Group Inc\n",
      "Job Link: https://www.linkedin.com/jobs/view/data-analyst-at-people-tech-group-inc-3788334028\n",
      "Search City: Everett\n",
      "Search Country: United States\n",
      "Last Processed Time: 2024-01-19 09:45:09.215838+00\n",
      "Job Level: Associate\n",
      "Job Type: Onsite\n",
      "Similarity Score: 1.0\n",
      "\n",
      "Job Title: Data Analyst\n",
      "Company: Books A Million\n",
      "Job Link: https://www.linkedin.com/jobs/view/data-analyst-at-books-a-million-3805526717\n",
      "Search City: Alabama\n",
      "Search Country: United States\n",
      "Last Processed Time: 2024-01-19 09:45:09.215838+00\n",
      "Job Level: Associate\n",
      "Job Type: Onsite\n",
      "Similarity Score: 1.0\n",
      "\n",
      "Job Title: Data Analyst\n",
      "Company: Fusemachines\n",
      "Job Link: https://mx.linkedin.com/jobs/view/data-analyst-at-fusemachines-3791544749\n",
      "Search City: Hollywood\n",
      "Search Country: United States\n",
      "Last Processed Time: 2024-01-19 09:45:09.215838+00\n",
      "Job Level: Mid senior\n",
      "Job Type: Onsite\n",
      "Similarity Score: 1.0\n",
      "\n"
     ]
    }
   ],
   "source": [
    "def printing_recommended_jobs(recommended_jobs):\n",
    "    print(\"Recommended Jobs:\")\n",
    "    for job, score in recommended_jobs:\n",
    "        print(\"Job Title:\", job['job_title'])\n",
    "        print(\"Company:\", job['company'])\n",
    "        print(\"Job Link:\", job['job_link'])\n",
    "        print(\"Search City:\", job['search_city'])\n",
    "        print(\"Search Country:\", job['search_country'])\n",
    "        print(\"Last Processed Time:\", job['last_processed_time'])\n",
    "        print(\"Job Level:\", job['job_level'])\n",
    "        print(\"Job Type:\", job['job_type'])\n",
    "        print(\"Similarity Score:\", score)\n",
    "        print()\n",
    "\n",
    "# Enter position to see the working of the model\n",
    "search_position = input(\"Enter search position: \")\n",
    "recommended_jobs = job_title_recommendation(search_position)\n",
    "printing_recommended_jobs(recommended_jobs)"
   ]
  },
  {
   "cell_type": "markdown",
   "metadata": {
    "id": "RjJmUhVHYFU3"
   },
   "source": [
    "Followed the same process to predict the jobtitle to cosine similarity score."
   ]
  },
  {
   "cell_type": "code",
   "execution_count": 25,
   "metadata": {
    "colab": {
     "base_uri": "https://localhost:8080/",
     "height": 582
    },
    "id": "d2YiqFXyq_0V",
    "outputId": "07a21761-15e2-435e-df99-3fd5255aa200"
   },
   "outputs": [
    {
     "name": "stdout",
     "output_type": "stream",
     "text": [
      "Enter search position: data analyst\n"
     ]
    },
    {
     "data": {
      "image/png": "[encoded data removed]",
      "text/plain": [
       "<Figure size 1000x600 with 1 Axes>"
      ]
     },
     "metadata": {},
     "output_type": "display_data"
    }
   ],
   "source": [
    "import matplotlib.pyplot as plt\n",
    "\n",
    "def plotting_similarity_scores(recommended_jobs):\n",
    "    # Extracting job titles and similarity scores from the list of recommended jobs\n",
    "    job_titles = [job[0]['job_title'] for job in recommended_jobs] # Extract job titles\n",
    "    similarity_scores = [job[1] for job in recommended_jobs] # Extract similarity scores\n",
    "\n",
    "    # Plotting bar chart\n",
    "    plt.figure(figsize=(10, 6))\n",
    "    plt.barh(job_titles, similarity_scores, color='skyblue')\n",
    "    plt.xlabel('Similarity Score')\n",
    "    plt.ylabel('Job Title')\n",
    "    plt.title('Similarity Scores for Recommended Jobs')\n",
    "    plt.gca().invert_yaxis()  # Invert y-axis to show highest similarity on top\n",
    "    plt.show()\n",
    "\n",
    "# Enter position to see the working of the model\n",
    "search_position = input(\"Enter search position: \")\n",
    "recommended_jobs = job_title_recommendation(search_position)\n",
    "plotting_similarity_scores(recommended_jobs)\n"
   ]
  },
  {
   "cell_type": "code",
   "execution_count": null,
   "metadata": {},
   "outputs": [],
   "source": []
  }
 ],
 "metadata": {
  "colab": {
   "provenance": []
  },
  "kernelspec": {
   "display_name": "Python 3 (ipykernel)",
   "language": "python",
   "name": "python3"
  },
  "language_info": {
   "codemirror_mode": {
    "name": "ipython",
    "version": 3
   },
   "file_extension": ".py",
   "mimetype": "text/x-python",
   "name": "python",
   "nbconvert_exporter": "python",
   "pygments_lexer": "ipython3",
   "version": "3.11.5"
  }
 },
 "nbformat": 4,
 "nbformat_minor": 1
}
